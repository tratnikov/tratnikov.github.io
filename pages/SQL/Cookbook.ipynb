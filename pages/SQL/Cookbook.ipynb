{
 "cells": [
  {
   "cell_type": "code",
   "execution_count": 5,
   "metadata": {},
   "outputs": [
    {
     "data": {
      "text/plain": [
       "'\\n1. to drop a column from a table\\nALTER TABLE student\\nDROP COLUMN class;\\n\\n2.insert multiple values into table\\ninsert into student\\nVALUES \\n(3,\\'D\\',5,25),\\n(4,\\'S\\',6,26);\\n\\n3. delete some rows\\nDELETE from student\\nwhere [grade] = 6;\\n\\n\\nTen Common Database Design Mistakes\\n\\nPoor design/planning\\nIgnoring normalization\\nPoor naming standards\\nLack of documentation\\nOne table to hold all domain values\\nUsing identity/guid columns as your only key\\nNot using SQL facilities to protect data integrity\\nNot using stored procedures to access data\\nTrying to build generic objects\\nLack of testing\\n\\n\\nUse well defined and consistent names for tables and columns (e.g. School, StudentCourse, CourseID ...).\\nUse singular for table names (i.e. use StudentCourse instead of StudentCourses). Table represents a collection of entities, there is no need for plural names.\\nDon’t use spaces for table names. Otherwise you will have to use ‘{‘, ‘[‘, ‘“’ etc. characters to define tables (i.e. for accesing table Student Course you\\'ll write “Student Course”. StudentCourse is much better).\\nDon’t use unnecessary prefixes or suffixes for table names (i.e. use School instead of TblSchool, SchoolTable etc.).\\nKeep passwords as encrypted for security. Decrypt them in application when required.\\nUse integer id fields for all tables. If id is not required for the time being, it may be required in the future (for association tables, indexing ...).\\nChoose columns with the integer data type (or its variants) for indexing. varchar column indexing will cause performance problems.\\nUse bit fields for boolean values. Using integer or varchar is unnecessarily storage consuming. Also start those column names with “Is”.\\nProvide authentication for database access. Don’t give admin role to each user.\\nAvoid “select *” queries until it is really needed. Use \"select [required_columns_list]\" for better performance.\\nUse an ORM (object relational mapping) framework (i.e. hibernate, iBatis ...) if application code is big enough. Performance issues of ORM frameworks can be handled by detailed configuration parameters.\\nPartition big and unused/rarely used tables/table parts to different physical storages for better query performance.\\nFor big, sensitive and mission critic database systems, use disaster recovery and security services like failover clustering, auto backups, replication etc.\\nUse constraints (foreign key, check, not null ...) for data integrity. Don’t give whole control to application code.\\nLack of database documentation is evil. Document your database design with ER schemas and instructions. Also write comment lines for your triggers, stored procedures and other scripts.\\nUse indexes for frequently used queries on big tables. Analyser tools can be used to determine where indexes will be defined. For queries retrieving a range of rows, clustered indexes are usually better. For point queries, non-clustered indexes are usually better.\\nDatabase server and the web server must be placed in different machines. This will provide more security (attackers can’t access data directly) and server CPU and memory performance will be better because of reduced request number and process usage.\\nImage and blob data columns must not be defined in frequently queried tables because of performance issues. These data must be placed in separate tables and their pointer can be used in queried tables.\\nNormalization must be used as required, to optimize the performance. Under-normalization will cause excessive repetition of data, over-normalization will cause excessive joins across too many tables. Both of them will get worse performance.\\nSpend time for database modeling and design as much as required. Otherwise saved(!) design time will cause (saved(!) design time) * 10/100/1000 maintenance and re-design time.\\n\\n'"
      ]
     },
     "execution_count": 5,
     "metadata": {},
     "output_type": "execute_result"
    }
   ],
   "source": [
    "'''\n",
    "1. to drop a column from a table\n",
    "ALTER TABLE student\n",
    "DROP COLUMN class;\n",
    "\n",
    "2.insert multiple values into table\n",
    "insert into student\n",
    "VALUES \n",
    "(3,'D',5,25),\n",
    "(4,'S',6,26);\n",
    "\n",
    "3. delete some rows\n",
    "DELETE from student\n",
    "where [grade] = 6;\n",
    "\n",
    "\n",
    "Ten Common Database Design Mistakes\n",
    "\n",
    "Poor design/planning\n",
    "Ignoring normalization\n",
    "Poor naming standards\n",
    "Lack of documentation\n",
    "One table to hold all domain values\n",
    "Using identity/guid columns as your only key\n",
    "Not using SQL facilities to protect data integrity\n",
    "Not using stored procedures to access data\n",
    "Trying to build generic objects\n",
    "Lack of testing\n",
    "\n",
    "\n",
    "Use well defined and consistent names for tables and columns (e.g. School, StudentCourse, CourseID ...).\n",
    "Use singular for table names (i.e. use StudentCourse instead of StudentCourses). Table represents a collection of entities, there is no need for plural names.\n",
    "Don’t use spaces for table names. Otherwise you will have to use ‘{‘, ‘[‘, ‘“’ etc. characters to define tables (i.e. for accesing table Student Course you'll write “Student Course”. StudentCourse is much better).\n",
    "Don’t use unnecessary prefixes or suffixes for table names (i.e. use School instead of TblSchool, SchoolTable etc.).\n",
    "Keep passwords as encrypted for security. Decrypt them in application when required.\n",
    "Use integer id fields for all tables. If id is not required for the time being, it may be required in the future (for association tables, indexing ...).\n",
    "Choose columns with the integer data type (or its variants) for indexing. varchar column indexing will cause performance problems.\n",
    "Use bit fields for boolean values. Using integer or varchar is unnecessarily storage consuming. Also start those column names with “Is”.\n",
    "Provide authentication for database access. Don’t give admin role to each user.\n",
    "Avoid “select *” queries until it is really needed. Use \"select [required_columns_list]\" for better performance.\n",
    "Use an ORM (object relational mapping) framework (i.e. hibernate, iBatis ...) if application code is big enough. Performance issues of ORM frameworks can be handled by detailed configuration parameters.\n",
    "Partition big and unused/rarely used tables/table parts to different physical storages for better query performance.\n",
    "For big, sensitive and mission critic database systems, use disaster recovery and security services like failover clustering, auto backups, replication etc.\n",
    "Use constraints (foreign key, check, not null ...) for data integrity. Don’t give whole control to application code.\n",
    "Lack of database documentation is evil. Document your database design with ER schemas and instructions. Also write comment lines for your triggers, stored procedures and other scripts.\n",
    "Use indexes for frequently used queries on big tables. Analyser tools can be used to determine where indexes will be defined. For queries retrieving a range of rows, clustered indexes are usually better. For point queries, non-clustered indexes are usually better.\n",
    "Database server and the web server must be placed in different machines. This will provide more security (attackers can’t access data directly) and server CPU and memory performance will be better because of reduced request number and process usage.\n",
    "Image and blob data columns must not be defined in frequently queried tables because of performance issues. These data must be placed in separate tables and their pointer can be used in queried tables.\n",
    "Normalization must be used as required, to optimize the performance. Under-normalization will cause excessive repetition of data, over-normalization will cause excessive joins across too many tables. Both of them will get worse performance.\n",
    "Spend time for database modeling and design as much as required. Otherwise saved(!) design time will cause (saved(!) design time) * 10/100/1000 maintenance and re-design time.\n",
    "\n",
    "\n",
    "\n",
    "https://condor.depaul.edu/gandrus/240IT/accesspages/relationships.htm\n",
    "A one-to-one (1:1) relationship means that each record in Table A relates to one, and only one, record in Table B, and each record in Table B relates to one, and only one, record in Table A. Look at the following example of tables from a company's Employees database:\n",
    "A one-to-many (1:N) relationship means a record in Table A can relate to zero, one, or many records in Table B. Many records in Table B can relate to one record in Table A. \n",
    "Many-To-Many Relationship (N:N)\n",
    "Examine the sample data below. These tables hold data about employees and the projects to which they are assigned. Each project can involve more than one employee and each employee can be working on more than one project\n",
    "\n",
    "'''"
   ]
  },
  {
   "cell_type": "code",
   "execution_count": null,
   "metadata": {},
   "outputs": [],
   "source": []
  }
 ],
 "metadata": {
  "kernelspec": {
   "display_name": "Python 3",
   "language": "python",
   "name": "python3"
  },
  "language_info": {
   "codemirror_mode": {
    "name": "ipython",
    "version": 3
   },
   "file_extension": ".py",
   "mimetype": "text/x-python",
   "name": "python",
   "nbconvert_exporter": "python",
   "pygments_lexer": "ipython3",
   "version": "3.8.5"
  }
 },
 "nbformat": 4,
 "nbformat_minor": 4
}
