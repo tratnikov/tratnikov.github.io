{
 "cells": [
  {
   "cell_type": "code",
   "execution_count": null,
   "metadata": {},
   "outputs": [],
   "source": [
    "from tkinter import *\n",
    "from tkinter import ttk\n",
    "\n",
    "root = Tk()\n",
    "root.title(\"Data quality\")\n",
    "root.iconbitmap('icon.ico')\n",
    "root.state('zoomed')\n",
    "my_menu = Menu(root)\n",
    "root.config(menu=my_menu)\n",
    "\n",
    "#Create file\n",
    "\n",
    "def file_new():\n",
    "    hide_all_frames()\n",
    "    file_new_frame.pack(fill=\"both\",expand=1)\n",
    "    my_notebook = ttk.Notebook(file_new_frame)\n",
    "    my_notebook.pack()\n",
    "    my_fram1 = Frame(my_notebook,bg=\"blue\",width=root.winfo_screenwidth(),height=root.winfo_screenheight())\n",
    "    my_fram2 = Frame(my_notebook,bg=\"red\",width=root.winfo_screenwidth(),height=root.winfo_screenheight())\n",
    "    my_fram1.pack(fill=\"both\",expand=1)\n",
    "    my_fram2.pack(fill=\"both\",expand=1)\n",
    "    my_notebook.add(my_fram1,text=\"Configuration\")\n",
    "    my_notebook.add(my_fram2,text=\"x1\")\n",
    "    \n",
    "def edit_cut():\n",
    "    hide_all_frames()\n",
    "    edit_cut_frame.pack(fill=\"both\",expand=1)    \n",
    "\n",
    "def hide_all_frames():\n",
    "    for widget in file_new_frame.winfo_children():\n",
    "        widget.destroy()\n",
    "    for widget in edit_cut_frame.winfo_children():\n",
    "        widget.destroy()    \n",
    "        \n",
    "    file_new_frame.pack_forget()\n",
    "    edit_cut_frame.pack_forget()\n",
    "#pack_forget - to hide not to kill\n",
    "\n",
    "    \n",
    "file_menu = Menu(my_menu,tearoff=False)\n",
    "my_menu.add_cascade(label=\"File\",menu=file_menu)\n",
    "file_menu.add_command(label=\"New...\",command = file_new)\n",
    "file_menu.add_separator()\n",
    "file_menu.add_command(label=\"Exit\",command=root.quit)\n",
    "\n",
    "#Create edit\n",
    "edit_menu = Menu(my_menu,tearoff=False)\n",
    "my_menu.add_cascade(label=\"Edit\",menu=edit_menu)\n",
    "edit_menu.add_command(label=\"Cut\",command = edit_cut)\n",
    "edit_menu.add_separator()\n",
    "edit_menu.add_command(label=\"Copy\")\n",
    "\n",
    "#Create frames\n",
    "\n",
    "file_new_frame = Frame(root, width=root.winfo_screenwidth(),height=root.winfo_screenheight(),bg=\"red\")\n",
    "edit_cut_frame = Frame(root, width=root.winfo_screenwidth(),height=root.winfo_screenheight(),bg=\"blue\")\n",
    "root.mainloop()"
   ]
  },
  {
   "cell_type": "code",
   "execution_count": null,
   "metadata": {},
   "outputs": [],
   "source": []
  }
 ],
 "metadata": {
  "kernelspec": {
   "display_name": "Python 3",
   "language": "python",
   "name": "python3"
  },
  "language_info": {
   "codemirror_mode": {
    "name": "ipython",
    "version": 3
   },
   "file_extension": ".py",
   "mimetype": "text/x-python",
   "name": "python",
   "nbconvert_exporter": "python",
   "pygments_lexer": "ipython3",
   "version": "3.8.5"
  }
 },
 "nbformat": 4,
 "nbformat_minor": 4
}
