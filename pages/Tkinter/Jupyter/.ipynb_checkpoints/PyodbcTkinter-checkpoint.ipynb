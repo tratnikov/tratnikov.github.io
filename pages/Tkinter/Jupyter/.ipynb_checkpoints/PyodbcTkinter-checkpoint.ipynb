{
 "cells": [
  {
   "cell_type": "code",
   "execution_count": 2,
   "metadata": {},
   "outputs": [],
   "source": [
    "from tkinter import *\n",
    "import pyodbc\n",
    "constr = ('Driver={ODBC Driver 17 for SQL Server};'\n",
    "                      'Server=DESKTOP-O2FNSGM;'\n",
    "                      'Database=tkinter;'\n",
    "                      'Trusted_Connection=yes;')\n"
   ]
  },
  {
   "cell_type": "code",
   "execution_count": 11,
   "metadata": {},
   "outputs": [],
   "source": [
    "root = Tk()\n",
    "root.title('Pyodbc')\n",
    "\n",
    "def submit():\n",
    "    with pyodbc.connect(constr) as conx:\n",
    "        cursor = conx.cursor()\n",
    "        a=f\"INSERT INTO max(name,age) VALUES('{name.get()}',{age.get()})\"\n",
    "        cursor.execute(a)\n",
    "    name.delete(0,END)\n",
    "    age.delete(0,END)\n",
    "\n",
    "def delter():\n",
    "    with pyodbc.connect(constr) as conx:\n",
    "        cursor = conx.cursor()\n",
    "        a=f\"DELETE FROM max WHERE [age]={aged.get()}\"\n",
    "        cursor.execute(a)\n",
    "    name.delete(0,END)\n",
    "    age.delete(0,END)    \n",
    "    aged.delete(0,END)  \n",
    "#Entry\n",
    "name=Entry(root,width=20)\n",
    "name.grid(row=0,column=1)\n",
    "\n",
    "age=Entry(root,width=20)\n",
    "age.grid(row=1,column=1)\n",
    "aged=Entry(root,width=20)\n",
    "aged.grid(row=4,column=0,columnspan=2)\n",
    "#Label\n",
    "lname = Label(root,text=\"Type your name\")\n",
    "lname.grid(row=0,column=0)\n",
    "lage = Label(root,text=\"Type your age\")\n",
    "lage.grid(row=1,column=0)\n",
    "\n",
    "submit_btn = Button(root,text='Add record to Databe',command=submit)\n",
    "submit_btn2 = Button(root,text='Delete record with age',command=delter)\n",
    "\n",
    "submit_btn.grid(row=2,column=0,columnspan=2)\n",
    "submit_btn2.grid(row=3,column=0,columnspan=2)\n",
    "\n",
    "root.mainloop()"
   ]
  },
  {
   "cell_type": "code",
   "execution_count": null,
   "metadata": {},
   "outputs": [],
   "source": []
  }
 ],
 "metadata": {
  "kernelspec": {
   "display_name": "Python 3",
   "language": "python",
   "name": "python3"
  },
  "language_info": {
   "codemirror_mode": {
    "name": "ipython",
    "version": 3
   },
   "file_extension": ".py",
   "mimetype": "text/x-python",
   "name": "python",
   "nbconvert_exporter": "python",
   "pygments_lexer": "ipython3",
   "version": "3.8.5"
  }
 },
 "nbformat": 4,
 "nbformat_minor": 4
}
