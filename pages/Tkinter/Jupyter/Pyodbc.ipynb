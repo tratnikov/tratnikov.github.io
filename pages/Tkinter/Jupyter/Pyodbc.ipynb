{
 "cells": [
  {
   "cell_type": "code",
   "execution_count": null,
   "metadata": {},
   "outputs": [],
   "source": [
    "from tkinter import *\n",
    "import pyodbc \n",
    "constr = ('Driver={ODBC Driver 17 for SQL Server};'\n",
    "                      'Server=xxx;'\n",
    "                      'Database=tkinter;'\n",
    "                      'Trusted_Connection=yes;')\n",
    "\n",
    "#Query\n",
    "with pyodbc.connect(constr) as conx:\n",
    "    cursor = conx.cursor()\n",
    "    cursor.execute('SELECT * FROM max')\n",
    "    data = cursor.fetchall()\n",
    "    print(data[:])\n",
    "    for row in data:\n",
    "        print(row.name)\n",
    "        print(row.age)\n",
    "#Insert single\n",
    "with pyodbc.connect(constr) as conx:\n",
    "    cursor = conx.cursor()\n",
    "    cursor.execute(\"INSERT INTO max(name,age) VALUES('oleg',5)\")\n",
    "#Insert many\n",
    "names = [('keke',10),('yy',2)]\n",
    "with pyodbc.connect(constr) as conx:\n",
    "    cursor = conx.cursor()\n",
    "    cursor.executemany(\"INSERT INTO max(name,age) VALUES(?,?)\",names)\n",
    "        \n",
    "        \n",
    "#retrieve columns\n",
    "columns =[row.column_name for row in cursor.columns(table=\"max\")]\n",
    "print(columns)\n",
    "#retrieve table names\n",
    "tables = [row.table_name for row in cursor.tables()]\n",
    "print(tables)\n",
    "\n",
    "\n"
   ]
  }
 ],
 "metadata": {
  "kernelspec": {
   "display_name": "Python 3",
   "language": "python",
   "name": "python3"
  },
  "language_info": {
   "codemirror_mode": {
    "name": "ipython",
    "version": 3
   },
   "file_extension": ".py",
   "mimetype": "text/x-python",
   "name": "python",
   "nbconvert_exporter": "python",
   "pygments_lexer": "ipython3",
   "version": "3.8.5"
  }
 },
 "nbformat": 4,
 "nbformat_minor": 4
}
