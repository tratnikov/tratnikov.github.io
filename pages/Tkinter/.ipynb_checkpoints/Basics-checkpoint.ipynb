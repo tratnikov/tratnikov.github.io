{
 "cells": [
  {
   "cell_type": "markdown",
   "metadata": {},
   "source": [
    "Inspired by Python GUI's With TKinter codemy.com"
   ]
  },
  {
   "cell_type": "code",
   "execution_count": 6,
   "metadata": {},
   "outputs": [],
   "source": [
    "from tkinter import *\n",
    "\n",
    "root = Tk()\n",
    "myLabel = Label(root,text='Hello World')\n",
    "myLabel2 = Label(root,text='Hello World 2')\n",
    "myLabel.pack()\n",
    "myLabel2.pack()\n",
    "\n",
    "root.mainloop()"
   ]
  },
  {
   "cell_type": "code",
   "execution_count": 5,
   "metadata": {},
   "outputs": [],
   "source": [
    "# Postioning"
   ]
  },
  {
   "cell_type": "code",
   "execution_count": 9,
   "metadata": {},
   "outputs": [],
   "source": [
    "from tkinter import *\n",
    "\n",
    "root = Tk()\n",
    "myLabel = Label(root,text='Hello World')\n",
    "myLabel2 = Label(root,text='Hello World 2')\n",
    "myLabel.grid(row=0,column=0)\n",
    "myLabel2.grid(row=1,column=1)\n",
    "\n",
    "root.mainloop()"
   ]
  },
  {
   "cell_type": "code",
   "execution_count": 10,
   "metadata": {},
   "outputs": [],
   "source": [
    "# Buttons"
   ]
  },
  {
   "cell_type": "code",
   "execution_count": 12,
   "metadata": {},
   "outputs": [],
   "source": [
    "from tkinter import *\n",
    "\n",
    "root = Tk()\n",
    "\n",
    "myLabel = Label(root,text='Hello World')\n",
    "myButton = Button(root,text='Click me',padx=20,pady=20)\n",
    "\n",
    "myLabel.grid(row=0,column=0)\n",
    "myButton.grid(row=1,column=1)\n",
    "\n",
    "root.mainloop()"
   ]
  },
  {
   "cell_type": "code",
   "execution_count": 13,
   "metadata": {},
   "outputs": [],
   "source": [
    "# Assign function to a button"
   ]
  },
  {
   "cell_type": "code",
   "execution_count": 21,
   "metadata": {},
   "outputs": [],
   "source": [
    "from tkinter import *\n",
    "\n",
    "root = Tk()\n",
    "\n",
    "def click():\n",
    "    myLabel = Label(root,text='Hello World')\n",
    "    myLabel.pack()\n",
    "\n",
    "myButton = Button(root,text='Click me',padx=20,pady=20,command=click,fg='blue',bg='#FFF')\n",
    "myButton.pack()\n",
    "\n",
    "root.mainloop()"
   ]
  },
  {
   "cell_type": "code",
   "execution_count": 22,
   "metadata": {},
   "outputs": [],
   "source": [
    "# Input box"
   ]
  },
  {
   "cell_type": "code",
   "execution_count": 27,
   "metadata": {},
   "outputs": [],
   "source": [
    "from tkinter import *\n",
    "\n",
    "root = Tk()\n",
    "\n",
    "e = Entry(root,width=50,)\n",
    "e.pack()\n",
    "e.insert(0,\"Enter your name\")\n",
    "\n",
    "\n",
    "def click():\n",
    "    myLabel = Label(root,text=e.get())\n",
    "    myLabel.pack()\n",
    "\n",
    "myButton = Button(root,text='Click me',padx=20,pady=20,command=click,fg='blue',bg='#FFF')\n",
    "myButton.pack()\n",
    "\n",
    "root.mainloop()"
   ]
  },
  {
   "cell_type": "code",
   "execution_count": 28,
   "metadata": {},
   "outputs": [],
   "source": [
    "#Button inputs"
   ]
  },
  {
   "cell_type": "code",
   "execution_count": 32,
   "metadata": {},
   "outputs": [],
   "source": [
    "from tkinter import *\n",
    "\n",
    "root = Tk()\n",
    "\n",
    "e = Entry(root,width=50,)\n",
    "e.pack()\n",
    "e.insert(0,\"Enter your name\")\n",
    "\n",
    "\n",
    "def click(x):\n",
    "    myLabel = Label(root,text=x*10)\n",
    "    myLabel.pack()\n",
    "\n",
    "myButton = Button(root,text='Click me',padx=20,pady=20,command= lambda: click(5),fg='blue',bg='#FFF')\n",
    "myButton.pack()\n",
    "\n",
    "root.mainloop()"
   ]
  },
  {
   "cell_type": "code",
   "execution_count": 35,
   "metadata": {},
   "outputs": [],
   "source": [
    "from tkinter import *\n",
    "\n",
    "root = Tk()\n",
    "\n",
    "e = Entry(root,width=50,)\n",
    "e.pack()\n",
    "e.insert(0,\"Enter your name\")\n",
    "\n",
    "\n",
    "def click(x):\n",
    "    myLabel = Label(root,text=int(e.get())*10)\n",
    "    myLabel.pack()\n",
    "\n",
    "myButton = Button(root,text='Click me',padx=20,pady=20,command= lambda: click(5),fg='blue',bg='#FFF')\n",
    "myButton.pack()\n",
    "\n",
    "root.mainloop()"
   ]
  },
  {
   "cell_type": "code",
   "execution_count": 36,
   "metadata": {},
   "outputs": [],
   "source": [
    "# Icons Images and Exit buttons"
   ]
  },
  {
   "cell_type": "code",
   "execution_count": 49,
   "metadata": {},
   "outputs": [],
   "source": [
    "from tkinter import *\n",
    "\n",
    "root = Tk()\n",
    "root.title(\"Data quality\")\n",
    "root.iconbitmap('icon.ico')\n",
    "button = Button(root,text='Exit',command=root.quit)\n",
    "button.pack()\n",
    "root.mainloop()"
   ]
  },
  {
   "cell_type": "code",
   "execution_count": 2,
   "metadata": {},
   "outputs": [],
   "source": [
    "# Radio Buttons"
   ]
  },
  {
   "cell_type": "code",
   "execution_count": 1,
   "metadata": {},
   "outputs": [],
   "source": [
    "from tkinter import *\n",
    "\n",
    "root = Tk()\n",
    "root.title(\"Data quality\")\n",
    "root.iconbitmap('icon.ico')\n",
    "\n",
    "\n",
    "def click(val):\n",
    "    myLabel = Label(root,text=val)\n",
    "    myLabel.pack()\n",
    "\n",
    "\n",
    "r =IntVar()\n",
    "r.set('2')\n",
    "\n",
    "Radiobutton(root,text=\"Option 1\",variable=r,value=1,command=lambda: click(r.get())).pack()\n",
    "Radiobutton(root,text=\"Option 2\",variable=r,value=2,command=lambda: click(r.get())).pack()\n",
    "\n",
    "mainloop()"
   ]
  },
  {
   "cell_type": "code",
   "execution_count": 2,
   "metadata": {},
   "outputs": [],
   "source": [
    "# Message Box"
   ]
  },
  {
   "cell_type": "code",
   "execution_count": 12,
   "metadata": {},
   "outputs": [],
   "source": [
    "from tkinter import *\n",
    "from tkinter import messagebox\n",
    "\n",
    "\n",
    "root = Tk()\n",
    "root.title(\"Data quality\")\n",
    "root.iconbitmap('icon.ico')\n",
    "\n",
    "#showwarning,showerror askquestion\n",
    "def popup():\n",
    "    response=messagebox.askyesno(\"This is my Popup!\",\"Hello World\")\n",
    "    Label(root,text=response).pack()\n",
    "\n",
    "        \n",
    "Button(root,text='Text',command=popup).pack()\n",
    "\n",
    "root.mainloop()"
   ]
  },
  {
   "cell_type": "code",
   "execution_count": 13,
   "metadata": {},
   "outputs": [],
   "source": [
    "# New Window"
   ]
  },
  {
   "cell_type": "code",
   "execution_count": 25,
   "metadata": {},
   "outputs": [],
   "source": [
    "from tkinter import *\n",
    "from tkinter import messagebox\n",
    "\n",
    "\n",
    "root = Tk()\n",
    "root.title(\"Data quality\")\n",
    "root.iconbitmap('icon.ico')\n",
    "\n",
    "\n",
    "def open():\n",
    "    top = Toplevel()\n",
    "    top.title(\"Another one\")\n",
    "    btn2 = Button(top,text='close',command=top.destroy).pack()\n",
    "    \n",
    "btn = Button(root,text=\"Open new Window\",command=open).pack()\n",
    "\n",
    "\n",
    "root.mainloop()"
   ]
  },
  {
   "cell_type": "code",
   "execution_count": null,
   "metadata": {},
   "outputs": [],
   "source": [
    "#File dialog\n"
   ]
  }
 ],
 "metadata": {
  "kernelspec": {
   "display_name": "Python 3",
   "language": "python",
   "name": "python3"
  },
  "language_info": {
   "codemirror_mode": {
    "name": "ipython",
    "version": 3
   },
   "file_extension": ".py",
   "mimetype": "text/x-python",
   "name": "python",
   "nbconvert_exporter": "python",
   "pygments_lexer": "ipython3",
   "version": "3.8.5"
  }
 },
 "nbformat": 4,
 "nbformat_minor": 4
}
