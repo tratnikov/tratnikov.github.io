{
 "cells": [
  {
   "cell_type": "markdown",
   "metadata": {},
   "source": [
    "Inspired by Python GUI's With TKinter codemy.com"
   ]
  },
  {
   "cell_type": "code",
   "execution_count": 6,
   "metadata": {},
   "outputs": [],
   "source": [
    "from tkinter import *\n",
    "\n",
    "root = Tk()\n",
    "myLabel = Label(root,text='Hello World')\n",
    "myLabel2 = Label(root,text='Hello World 2')\n",
    "myLabel.pack()\n",
    "myLabel2.pack()\n",
    "\n",
    "root.mainloop()"
   ]
  },
  {
   "cell_type": "code",
   "execution_count": 5,
   "metadata": {},
   "outputs": [],
   "source": [
    "# Postioning"
   ]
  },
  {
   "cell_type": "code",
   "execution_count": 9,
   "metadata": {},
   "outputs": [],
   "source": [
    "from tkinter import *\n",
    "\n",
    "root = Tk()\n",
    "myLabel = Label(root,text='Hello World')\n",
    "myLabel2 = Label(root,text='Hello World 2')\n",
    "myLabel.grid(row=0,column=0)\n",
    "myLabel2.grid(row=1,column=1)\n",
    "\n",
    "root.mainloop()"
   ]
  },
  {
   "cell_type": "code",
   "execution_count": 10,
   "metadata": {},
   "outputs": [],
   "source": [
    "# Buttons"
   ]
  },
  {
   "cell_type": "code",
   "execution_count": 12,
   "metadata": {},
   "outputs": [],
   "source": [
    "from tkinter import *\n",
    "\n",
    "root = Tk()\n",
    "\n",
    "myLabel = Label(root,text='Hello World')\n",
    "myButton = Button(root,text='Click me',padx=20,pady=20)\n",
    "\n",
    "myLabel.grid(row=0,column=0)\n",
    "myButton.grid(row=1,column=1)\n",
    "\n",
    "root.mainloop()"
   ]
  },
  {
   "cell_type": "code",
   "execution_count": 13,
   "metadata": {},
   "outputs": [],
   "source": [
    "# Assign function to a button"
   ]
  },
  {
   "cell_type": "code",
   "execution_count": 21,
   "metadata": {},
   "outputs": [],
   "source": [
    "from tkinter import *\n",
    "\n",
    "root = Tk()\n",
    "\n",
    "def click():\n",
    "    myLabel = Label(root,text='Hello World')\n",
    "    myLabel.pack()\n",
    "\n",
    "myButton = Button(root,text='Click me',padx=20,pady=20,command=click,fg='blue',bg='#FFF')\n",
    "myButton.pack()\n",
    "\n",
    "root.mainloop()"
   ]
  },
  {
   "cell_type": "code",
   "execution_count": 22,
   "metadata": {},
   "outputs": [],
   "source": [
    "# Input box"
   ]
  },
  {
   "cell_type": "code",
   "execution_count": 27,
   "metadata": {},
   "outputs": [],
   "source": [
    "from tkinter import *\n",
    "\n",
    "root = Tk()\n",
    "\n",
    "e = Entry(root,width=50,)\n",
    "e.pack()\n",
    "e.insert(0,\"Enter your name\")\n",
    "\n",
    "\n",
    "def click():\n",
    "    myLabel = Label(root,text=e.get())\n",
    "    myLabel.pack()\n",
    "\n",
    "myButton = Button(root,text='Click me',padx=20,pady=20,command=click,fg='blue',bg='#FFF')\n",
    "myButton.pack()\n",
    "\n",
    "root.mainloop()"
   ]
  },
  {
   "cell_type": "code",
   "execution_count": 28,
   "metadata": {},
   "outputs": [],
   "source": [
    "#Button inputs"
   ]
  },
  {
   "cell_type": "code",
   "execution_count": 10,
   "metadata": {},
   "outputs": [],
   "source": [
    "from tkinter import *\n",
    "\n",
    "root = Tk()\n",
    "\n",
    "e = Entry(root,width=50,)\n",
    "e.pack()\n",
    "e.insert(0,\"Enter your name\")\n",
    "\n",
    "\n",
    "def click(x):\n",
    "    myLabel = Label(root,text=x*10)\n",
    "    myLabel.pack()\n",
    "\n",
    "myButton = Button(root,text='Click me',padx=20,pady=20,command= lambda: click(5),fg='blue',bg='#FFF')\n",
    "myButton.pack()\n",
    "\n",
    "root.mainloop()"
   ]
  },
  {
   "cell_type": "code",
   "execution_count": 35,
   "metadata": {},
   "outputs": [],
   "source": [
    "from tkinter import *\n",
    "\n",
    "root = Tk()\n",
    "\n",
    "e = Entry(root,width=50,)\n",
    "e.pack()\n",
    "e.insert(0,\"Enter your name\")\n",
    "\n",
    "\n",
    "def click(x):\n",
    "    myLabel = Label(root,text=int(e.get())*10)\n",
    "    myLabel.pack()\n",
    "\n",
    "myButton = Button(root,text='Click me',padx=20,pady=20,command= lambda: click(5),fg='blue',bg='#FFF')\n",
    "myButton.pack()\n",
    "\n",
    "root.mainloop()"
   ]
  },
  {
   "cell_type": "code",
   "execution_count": 36,
   "metadata": {},
   "outputs": [],
   "source": [
    "# Icons Images and Exit buttons"
   ]
  },
  {
   "cell_type": "code",
   "execution_count": 49,
   "metadata": {},
   "outputs": [],
   "source": [
    "from tkinter import *\n",
    "\n",
    "root = Tk()\n",
    "root.title(\"Data quality\")\n",
    "root.iconbitmap('icon.ico')\n",
    "button = Button(root,text='Exit',command=root.quit)\n",
    "button.pack()\n",
    "root.mainloop()"
   ]
  },
  {
   "cell_type": "code",
   "execution_count": 2,
   "metadata": {},
   "outputs": [],
   "source": [
    "# Radio Buttons"
   ]
  },
  {
   "cell_type": "code",
   "execution_count": 1,
   "metadata": {},
   "outputs": [],
   "source": [
    "from tkinter import *\n",
    "\n",
    "root = Tk()\n",
    "root.title(\"Data quality\")\n",
    "root.iconbitmap('icon.ico')\n",
    "\n",
    "\n",
    "def click(val):\n",
    "    myLabel = Label(root,text=val)\n",
    "    myLabel.pack()\n",
    "\n",
    "\n",
    "r =IntVar()\n",
    "r.set('2')\n",
    "\n",
    "Radiobutton(root,text=\"Option 1\",variable=r,value=1,command=lambda: click(r.get())).pack()\n",
    "Radiobutton(root,text=\"Option 2\",variable=r,value=2,command=lambda: click(r.get())).pack()\n",
    "\n",
    "mainloop()"
   ]
  },
  {
   "cell_type": "code",
   "execution_count": 2,
   "metadata": {},
   "outputs": [],
   "source": [
    "# Message Box"
   ]
  },
  {
   "cell_type": "code",
   "execution_count": 12,
   "metadata": {},
   "outputs": [],
   "source": [
    "from tkinter import *\n",
    "from tkinter import messagebox\n",
    "\n",
    "\n",
    "root = Tk()\n",
    "root.title(\"Data quality\")\n",
    "root.iconbitmap('icon.ico')\n",
    "\n",
    "#showwarning,showerror askquestion\n",
    "def popup():\n",
    "    response=messagebox.askyesno(\"This is my Popup!\",\"Hello World\")\n",
    "    Label(root,text=response).pack()\n",
    "\n",
    "        \n",
    "Button(root,text='Text',command=popup).pack()\n",
    "\n",
    "root.mainloop()"
   ]
  },
  {
   "cell_type": "code",
   "execution_count": 13,
   "metadata": {},
   "outputs": [],
   "source": [
    "# New Window"
   ]
  },
  {
   "cell_type": "code",
   "execution_count": 25,
   "metadata": {},
   "outputs": [],
   "source": [
    "from tkinter import *\n",
    "from tkinter import messagebox\n",
    "\n",
    "\n",
    "root = Tk()\n",
    "root.title(\"Data quality\")\n",
    "root.iconbitmap('icon.ico')\n",
    "\n",
    "\n",
    "def open():\n",
    "    top = Toplevel()\n",
    "    top.title(\"Another one\")\n",
    "    btn2 = Button(top,text='close',command=top.destroy).pack()\n",
    "    \n",
    "btn = Button(root,text=\"Open new Window\",command=open).pack()\n",
    "\n",
    "\n",
    "root.mainloop()"
   ]
  },
  {
   "cell_type": "code",
   "execution_count": 32,
   "metadata": {},
   "outputs": [],
   "source": [
    "#File dialog"
   ]
  },
  {
   "cell_type": "code",
   "execution_count": 33,
   "metadata": {},
   "outputs": [],
   "source": [
    "from tkinter import *\n",
    "from tkinter import messagebox\n",
    "from tkinter import filedialog\n",
    "\n",
    "\n",
    "root = Tk()\n",
    "root.title(\"Data quality\")\n",
    "root.iconbitmap('icon.ico')\n",
    "\n",
    "root.filename =  filedialog.askopenfilename(initialdir = \"/\",title = \"Select file\",filetypes = ((\"jpeg files\",\"*.jpg\"),(\"all files\",\"*.*\")))\n",
    "root.mainloop()"
   ]
  },
  {
   "cell_type": "code",
   "execution_count": 34,
   "metadata": {},
   "outputs": [],
   "source": [
    "# Sliders"
   ]
  },
  {
   "cell_type": "code",
   "execution_count": 9,
   "metadata": {},
   "outputs": [],
   "source": [
    "from tkinter import *\n",
    "master = Tk()\n",
    "\n",
    "def getThrottle():\n",
    "    Label(master,text=Throttle.get()).pack()\n",
    "\n",
    "Throttle = Scale(master, from_=0, to=100, orient=HORIZONTAL)\n",
    "Throttle.set(0)\n",
    "Throttle.pack()\n",
    "\n",
    "Button(master,text=\"CLICK ME\",command=getThrottle).pack()\n",
    "\n",
    "mainloop()"
   ]
  },
  {
   "cell_type": "code",
   "execution_count": 10,
   "metadata": {},
   "outputs": [],
   "source": [
    "# Check box"
   ]
  },
  {
   "cell_type": "code",
   "execution_count": 4,
   "metadata": {},
   "outputs": [],
   "source": [
    "from tkinter import *\n",
    "\n",
    "\n",
    "\n",
    "root = Tk()\n",
    "root.title(\"Data quality\")\n",
    "root.iconbitmap('icon.ico')\n",
    "\n",
    "def show():\n",
    "    label =Label(root, text=var.get()).pack()\n",
    "\n",
    "var = StringVar()\n",
    "\n",
    "c = Checkbutton(root,text=\"Check this box\",variable=var,onvalue=\"on\",offvalue=\"off\")\n",
    "c.select()\n",
    "c.pack()\n",
    "\n",
    "\n",
    "Button(root,text='Show selection',command=show).pack()\n",
    "root.mainloop()"
   ]
  },
  {
   "cell_type": "code",
   "execution_count": 5,
   "metadata": {},
   "outputs": [],
   "source": [
    "#Dropdown"
   ]
  },
  {
   "cell_type": "code",
   "execution_count": 9,
   "metadata": {},
   "outputs": [],
   "source": [
    "from tkinter import *\n",
    "\n",
    "\n",
    "\n",
    "root = Tk()\n",
    "root.title(\"Data quality\")\n",
    "root.iconbitmap('icon.ico')\n",
    "\n",
    "clicked = StringVar()\n",
    "clicked.set('Monday')\n",
    "list2 = [\"Monday\",\"Thuesday\",\"Wedsndet\"]\n",
    "drop = OptionMenu(root,clicked,*list2).pack()\n",
    "\n",
    "\n",
    "def show():\n",
    "    Label(root,text=clicked.get()).pack()\n",
    "Button(root,text='Click',command=show).pack()\n",
    "root.mainloop()"
   ]
  },
  {
   "cell_type": "code",
   "execution_count": 11,
   "metadata": {},
   "outputs": [],
   "source": [
    "# Keyboard Events"
   ]
  },
  {
   "cell_type": "code",
   "execution_count": 5,
   "metadata": {},
   "outputs": [],
   "source": [
    "from tkinter import *\n",
    "\n",
    "\n",
    "\n",
    "root = Tk()\n",
    "root.title(\"Data quality\")\n",
    "root.iconbitmap('icon.ico')\n",
    "\n",
    "def clicker(event):\n",
    "    Label(root,text='Clicked').pack()\n",
    "\n",
    "kek = Button(root,text=\"Click Me\")\n",
    "kek.bind(\"<Button-2>\",clicker)\n",
    "kek.pack()\n",
    "\n",
    "\n",
    "root.mainloop()"
   ]
  },
  {
   "cell_type": "code",
   "execution_count": 6,
   "metadata": {},
   "outputs": [
    {
     "data": {
      "text/plain": [
       "\"\\n<Button-1>        Button 1 is the leftmost button, button 2 is the middle button\\n                  (where available), and button 3 the rightmost button.\\n\\n                  <Button-1>, <ButtonPress-1>, and <1> are all synonyms.\\n\\n                  For mouse wheel support under Linux, use Button-4 (scroll\\n                  up) and Button-5 (scroll down)\\n\\n<B1-Motion>       The mouse is moved, with mouse button 1 being held down (use\\n                  B2 for the middle button, B3 for the right button).\\n\\n<ButtonRelease-1> Button 1 was released. This is probably a better choice in\\n                  most cases than the Button event, because if the user\\n                  accidentally presses the button, they can move the mouse\\n                  off the widget to avoid setting off the event.\\n\\n<Double-Button-1> Button 1 was double clicked. You can use Double or Triple as\\n                  prefixes.\\n\\n<Enter>           The mouse pointer entered the widget (this event doesn’t mean\\n                  that the user pressed the Enter key!).\\n\\n<Leave>           The mouse pointer left the widget.\\n\\n<FocusIn>         Keyboard focus was moved to this widget, or to a child of\\n                  this widget.\\n\\n<FocusOut>        Keyboard focus was moved from this widget to another widget.\\n\\n<Return>          The user pressed the Enter key. For an ordinary 102-key\\n                  PC-style keyboard, the special keys are Cancel (the Break\\n                  key), BackSpace, Tab, Return(the Enter key), Shift_L (any\\n                  Shift key), Control_L (any Control key), Alt_L (any Alt key),\\n                  Pause, Caps_Lock, Escape, Prior (Page Up), Next (Page Down),\\n                  End, Home, Left, Up, Right, Down, Print, Insert, Delete, F1,\\n                  F2, F3, F4, F5, F6, F7, F8, F9, F10, F11, F12, Num_Lock, and\\n                  Scroll_Lock.\\n\\n<Key>             The user pressed any key. The key is provided in the char\\n                  member of the event object passed to the callback (this is an\\n                  empty string for special keys).\\n\\na                 The user typed an “a”. Most printable characters can be used\\n                  as is. The exceptions are space (<space>) and less than\\n                  (<less>). Note that 1 is a keyboard binding, while <1> is a\\n                  button binding.\\n\\n<Shift-Up>        The user pressed the Up arrow, while holding the Shift key\\n                  pressed. You can use prefixes like Alt, Shift, and Control.\\n\\n<Configure>       The widget changed size (or location, on some platforms). The\\n                  new size is provided in the width and height attributes of\\n                  the event object passed to the callback.\\n\\n<Activate>        A widget is changing from being inactive to being active.\\n                  This refers to changes in the state option of a widget such\\n                  as a button changing from inactive (grayed out) to active.\\n\\n\\n<Deactivate>      A widget is changing from being active to being inactive.\\n                  This refers to changes in the state option of a widget such\\n                  as a radiobutton changing from active to inactive (grayed out).\\n\\n<Destroy>         A widget is being destroyed.\\n\\n<Expose>          This event occurs whenever at least some part of your\\n                  application or widget becomes visible after having been\\n                  covered up by another window.\\n\\n<KeyRelease>      The user let up on a key.\\n\\n<Map>             A widget is being mapped, that is, made visible in the\\n                  application. This will happen, for example, when you call the\\n                  widget's .grid() method.\\n\\n<Motion>          The user moved the mouse pointer entirely within a widget.\\n\\n<MouseWheel>      The user moved the mouse wheel up or down. At present, this\\n                  binding works on Windows and MacOS, but not under Linux.\\n\\n<Unmap>           A widget is being unmapped and is no longer visible.\\n\\n<Visibility>      Happens when at least some part of the application window\\n                  becomes visible on the screen.\\n\""
      ]
     },
     "execution_count": 6,
     "metadata": {},
     "output_type": "execute_result"
    }
   ],
   "source": [
    "\"\"\"\n",
    "<Button-1>        Button 1 is the leftmost button, button 2 is the middle button\n",
    "                  (where available), and button 3 the rightmost button.\n",
    "\n",
    "                  <Button-1>, <ButtonPress-1>, and <1> are all synonyms.\n",
    "\n",
    "                  For mouse wheel support under Linux, use Button-4 (scroll\n",
    "                  up) and Button-5 (scroll down)\n",
    "\n",
    "<B1-Motion>       The mouse is moved, with mouse button 1 being held down (use\n",
    "                  B2 for the middle button, B3 for the right button).\n",
    "\n",
    "<ButtonRelease-1> Button 1 was released. This is probably a better choice in\n",
    "                  most cases than the Button event, because if the user\n",
    "                  accidentally presses the button, they can move the mouse\n",
    "                  off the widget to avoid setting off the event.\n",
    "\n",
    "<Double-Button-1> Button 1 was double clicked. You can use Double or Triple as\n",
    "                  prefixes.\n",
    "\n",
    "<Enter>           The mouse pointer entered the widget (this event doesn’t mean\n",
    "                  that the user pressed the Enter key!).\n",
    "\n",
    "<Leave>           The mouse pointer left the widget.\n",
    "\n",
    "<FocusIn>         Keyboard focus was moved to this widget, or to a child of\n",
    "                  this widget.\n",
    "\n",
    "<FocusOut>        Keyboard focus was moved from this widget to another widget.\n",
    "\n",
    "<Return>          The user pressed the Enter key. For an ordinary 102-key\n",
    "                  PC-style keyboard, the special keys are Cancel (the Break\n",
    "                  key), BackSpace, Tab, Return(the Enter key), Shift_L (any\n",
    "                  Shift key), Control_L (any Control key), Alt_L (any Alt key),\n",
    "                  Pause, Caps_Lock, Escape, Prior (Page Up), Next (Page Down),\n",
    "                  End, Home, Left, Up, Right, Down, Print, Insert, Delete, F1,\n",
    "                  F2, F3, F4, F5, F6, F7, F8, F9, F10, F11, F12, Num_Lock, and\n",
    "                  Scroll_Lock.\n",
    "\n",
    "<Key>             The user pressed any key. The key is provided in the char\n",
    "                  member of the event object passed to the callback (this is an\n",
    "                  empty string for special keys).\n",
    "\n",
    "a                 The user typed an “a”. Most printable characters can be used\n",
    "                  as is. The exceptions are space (<space>) and less than\n",
    "                  (<less>). Note that 1 is a keyboard binding, while <1> is a\n",
    "                  button binding.\n",
    "\n",
    "<Shift-Up>        The user pressed the Up arrow, while holding the Shift key\n",
    "                  pressed. You can use prefixes like Alt, Shift, and Control.\n",
    "\n",
    "<Configure>       The widget changed size (or location, on some platforms). The\n",
    "                  new size is provided in the width and height attributes of\n",
    "                  the event object passed to the callback.\n",
    "\n",
    "<Activate>        A widget is changing from being inactive to being active.\n",
    "                  This refers to changes in the state option of a widget such\n",
    "                  as a button changing from inactive (grayed out) to active.\n",
    "\n",
    "\n",
    "<Deactivate>      A widget is changing from being active to being inactive.\n",
    "                  This refers to changes in the state option of a widget such\n",
    "                  as a radiobutton changing from active to inactive (grayed out).\n",
    "\n",
    "<Destroy>         A widget is being destroyed.\n",
    "\n",
    "<Expose>          This event occurs whenever at least some part of your\n",
    "                  application or widget becomes visible after having been\n",
    "                  covered up by another window.\n",
    "\n",
    "<KeyRelease>      The user let up on a key.\n",
    "\n",
    "<Map>             A widget is being mapped, that is, made visible in the\n",
    "                  application. This will happen, for example, when you call the\n",
    "                  widget's .grid() method.\n",
    "\n",
    "<Motion>          The user moved the mouse pointer entirely within a widget.\n",
    "\n",
    "<MouseWheel>      The user moved the mouse wheel up or down. At present, this\n",
    "                  binding works on Windows and MacOS, but not under Linux.\n",
    "\n",
    "<Unmap>           A widget is being unmapped and is no longer visible.\n",
    "\n",
    "<Visibility>      Happens when at least some part of the application window\n",
    "                  becomes visible on the screen.\n",
    "\"\"\""
   ]
  },
  {
   "cell_type": "code",
   "execution_count": null,
   "metadata": {},
   "outputs": [],
   "source": []
  }
 ],
 "metadata": {
  "kernelspec": {
   "display_name": "Python 3",
   "language": "python",
   "name": "python3"
  },
  "language_info": {
   "codemirror_mode": {
    "name": "ipython",
    "version": 3
   },
   "file_extension": ".py",
   "mimetype": "text/x-python",
   "name": "python",
   "nbconvert_exporter": "python",
   "pygments_lexer": "ipython3",
   "version": "3.8.5"
  }
 },
 "nbformat": 4,
 "nbformat_minor": 4
}
