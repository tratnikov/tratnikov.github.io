{
 "cells": [
  {
   "cell_type": "code",
   "execution_count": 10,
   "metadata": {},
   "outputs": [
    {
     "name": "stdout",
     "output_type": "stream",
     "text": [
      "[{'_id': ObjectId('601fcb63d624544e51df1541'), 'name': 'Book', 'price': 30.0}, {'_id': ObjectId('601fcbefd624544e51df1542'), 'name': 'Book', 'price': 30.0, 'desc': 'great'}, {'_id': ObjectId('601fcc60d624544e51df1543'), 'name': 'Book', 'price': 30.0, 'desc': 'great', 'det': {'cpu': 'intel'}}]\n"
     ]
    }
   ],
   "source": [
    "from pymongo import MongoClient\n",
    "from bson import json_util\n",
    "\n",
    "\n",
    "MONGODB_HOST = 'localhost'\n",
    "MONGODB_PORT = 27017\n",
    "DB_NAME = 'shop'\n",
    "COLLECTION_NAME = 'products'\n",
    "\n",
    "def getDatas():\n",
    "    connection = MongoClient(MONGODB_HOST, MONGODB_PORT)\n",
    "    collection = connection[DB_NAME][COLLECTION_NAME]\n",
    "    projects = collection.find()\n",
    "    json_projects = []\n",
    "    for project in projects:\n",
    "        json_projects.append(project)\n",
    "    connection.close()\n",
    "    return json_projects\n",
    "\n",
    "print(getDatas())"
   ]
  }
 ],
 "metadata": {
  "kernelspec": {
   "display_name": "Python 3",
   "language": "python",
   "name": "python3"
  },
  "language_info": {
   "codemirror_mode": {
    "name": "ipython",
    "version": 3
   },
   "file_extension": ".py",
   "mimetype": "text/x-python",
   "name": "python",
   "nbconvert_exporter": "python",
   "pygments_lexer": "ipython3",
   "version": "3.8.5"
  }
 },
 "nbformat": 4,
 "nbformat_minor": 4
}
