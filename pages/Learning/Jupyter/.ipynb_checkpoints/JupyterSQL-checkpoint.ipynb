{
 "cells": [
  {
   "cell_type": "code",
   "execution_count": null,
   "metadata": {},
   "outputs": [],
   "source": [
    "from sqlalchemy import create_engine\n",
    "SERVER = 'xxx'\n",
    "DATABASE = '70_461'\n",
    "DRIVER = 'ODBC Driver 17 for SQL Server'\n",
    "DATABASE_CONNECTION = f'mssql://{SERVER}/{DATABASE}?driver={DRIVER}'\n",
    "engine = create_engine(DATABASE_CONNECTION)\n",
    "%load_ext sql\n",
    "%sql mssql://DESKTOP-O2FNSGM/70_461?driver=ODBC+Driver+17+for+SQL+Server\n",
    "    \n",
    "%%sql create table table1\n",
    "(mynumber int)    "
   ]
  }
 ],
 "metadata": {
  "kernelspec": {
   "display_name": "Python 3",
   "language": "python",
   "name": "python3"
  },
  "language_info": {
   "codemirror_mode": {
    "name": "ipython",
    "version": 3
   },
   "file_extension": ".py",
   "mimetype": "text/x-python",
   "name": "python",
   "nbconvert_exporter": "python",
   "pygments_lexer": "ipython3",
   "version": "3.8.5"
  }
 },
 "nbformat": 4,
 "nbformat_minor": 4
}
