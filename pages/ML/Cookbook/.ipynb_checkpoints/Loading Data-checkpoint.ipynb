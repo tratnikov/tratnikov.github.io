{
 "cells": [
  {
   "cell_type": "markdown",
   "metadata": {},
   "source": [
    "**Loading a Sample Dataset**"
   ]
  },
  {
   "cell_type": "code",
   "execution_count": 2,
   "metadata": {},
   "outputs": [],
   "source": [
    "# Load scikit-learn's datasets\n",
    "from sklearn import datasets\n",
    "# Load digits dataset\n",
    "digits = datasets.load_digits()\n",
    "# Create features matrix\n",
    "features = digits.data\n",
    "target = digits.target"
   ]
  },
  {
   "cell_type": "markdown",
   "metadata": {},
   "source": [
    "**Creating a Simulated Dataset**"
   ]
  },
  {
   "cell_type": "code",
   "execution_count": 4,
   "metadata": {},
   "outputs": [],
   "source": [
    "from sklearn.datasets import make_regression\n",
    "features, target, coefficients = make_regression(n_samples = 100,\n",
    "n_features = 3,\n",
    "n_informative = 3,\n",
    "n_targets = 1,\n",
    "noise = 0.0,\n",
    "coef = True,\n",
    "random_state = 1)"
   ]
  },
  {
   "cell_type": "code",
   "execution_count": 6,
   "metadata": {},
   "outputs": [
    {
     "data": {
      "text/plain": [
       "array([[ 1.29322588e+00, -6.17362064e-01, -1.10447026e-01],\n",
       "       [-2.79308500e+00,  3.66332015e-01,  1.93752881e+00],\n",
       "       [ 8.01861032e-01, -1.86569772e-01,  4.65672984e-02],\n",
       "       [ 1.29101580e-01,  5.02740882e-01,  1.61694960e+00],\n",
       "       [-6.91660752e-01, -6.87172700e-01, -3.96753527e-01],\n",
       "       [-7.54397941e-01,  5.12929820e-01,  1.25286816e+00],\n",
       "       [ 1.90465871e+00,  6.59049796e-01,  1.11105670e+00],\n",
       "       [ 2.01830179e-01,  1.79215821e+00,  6.61020288e-01],\n",
       "       [ 4.22137467e-02, -1.10061918e+00,  5.82815214e-01],\n",
       "       [-1.39649634e+00, -5.04465863e-01, -1.44411381e+00],\n",
       "       [-3.10116774e-01,  1.03882460e+00, -2.43483776e+00],\n",
       "       [ 8.36004719e-01,  7.58805660e-01,  1.54335911e+00],\n",
       "       [-8.45080274e-02,  4.17302005e-01, -2.97361883e-01],\n",
       "       [-8.90555584e-01,  1.95607890e+00, -1.11911540e+00],\n",
       "       [-9.35769434e-01,  5.30355467e-01, -2.67888080e-01],\n",
       "       [ 1.55880554e+00, -1.21974440e+00,  1.09402696e-01],\n",
       "       [ 8.10951673e-01, -4.00878192e-01,  1.04444209e+00],\n",
       "       [ 4.36689932e-02,  1.33145711e+00, -2.26314243e-01],\n",
       "       [ 7.42044161e-01, -8.87628964e-01, -1.91835552e-01],\n",
       "       [ 1.69382433e-01, -9.53700602e-01,  7.40556451e-01],\n",
       "       [-1.61577235e+00,  4.08900538e-01,  1.12141771e+00],\n",
       "       [ 2.19069973e+00, -6.46916688e-01, -1.89636092e+00],\n",
       "       [ 1.39984394e+00, -4.37508983e-01, -7.81911683e-01],\n",
       "       [ 8.24005618e-01,  1.95487808e+00, -5.62305431e-01],\n",
       "       [ 1.74481176e+00,  3.19039096e-01, -7.61206901e-01],\n",
       "       [-1.52568032e+00, -3.74438319e-01,  7.95026094e-01],\n",
       "       [-1.30572692e+00, -2.30839743e-01, -3.44987210e-01],\n",
       "       [-1.01745873e-01,  7.50411640e-01,  8.68886157e-01],\n",
       "       [-1.33195167e+00, -1.65072127e+00, -1.76068856e+00],\n",
       "       [-1.27255876e+00,  5.03184813e-01,  3.13547720e-01],\n",
       "       [-1.12201873e+00, -9.97026828e-01, -5.17094458e-01],\n",
       "       [ 9.00855949e-01, -1.22890226e-01, -6.83727859e-01],\n",
       "       [-2.02220122e+00,  8.27974643e-01, -3.06204013e-01],\n",
       "       [ 9.01486892e-01, -2.48634778e-01,  2.52832571e+00],\n",
       "       [ 1.96710175e+00,  1.23616403e+00, -1.85798186e+00],\n",
       "       [-1.11731035e+00,  1.65980218e+00,  2.34415698e-01],\n",
       "       [ 3.15159392e-01, -8.59515941e-01,  8.46160648e-01],\n",
       "       [ 6.23362177e-01,  1.40754000e+00, -4.34956683e-01],\n",
       "       [-1.74703160e-01,  2.13533901e-01,  9.86335188e-01],\n",
       "       [ 2.48799161e-01,  4.95211324e-01, -2.96641152e-01],\n",
       "       [-2.49370375e-01, -2.06014071e+00,  1.46210794e+00],\n",
       "       [-3.22417204e-01,  1.13376944e+00, -3.84054355e-01],\n",
       "       [-2.98092835e-01, -7.55717130e-02,  4.88518147e-01],\n",
       "       [ 2.11124755e-01,  1.77187720e-01,  1.65275673e-02],\n",
       "       [ 4.03491642e-01, -1.09491185e+00,  5.93578523e-01],\n",
       "       [-6.65754518e-01,  8.25029824e-01, -1.67419581e+00],\n",
       "       [-2.87307863e-01, -3.19801599e-01,  6.80069840e-01],\n",
       "       [-1.07296862e+00, -2.30153870e+00,  8.65407629e-01],\n",
       "       [-3.43853676e-01, -6.20000844e-01,  4.35968568e-02],\n",
       "       [ 2.30094735e-01, -2.22328143e-01,  7.62011180e-01],\n",
       "       [-2.66218506e-01, -1.37311732e+00,  3.26145467e-02],\n",
       "       [-7.47158294e-01,  5.08077548e-02,  1.69245460e+00],\n",
       "       [-1.04458938e+00,  5.85662000e-01,  2.05117344e+00],\n",
       "       [ 1.14472371e+00,  5.02494339e-01,  9.01590721e-01],\n",
       "       [ 4.29526140e-01,  1.06222724e-01, -6.06998398e-01],\n",
       "       [ 6.98032034e-01,  1.22450770e+00, -4.47128565e-01],\n",
       "       [-1.20464572e-01, -1.18231813e+00, -1.23312074e+00],\n",
       "       [ 1.62434536e+00, -5.28171752e-01, -6.11756414e-01],\n",
       "       [ 3.50545979e-01, -3.86955093e-02, -1.31228341e+00],\n",
       "       [ 1.60037069e-01,  3.15634947e-01,  8.76168921e-01],\n",
       "       [ 2.44936865e+00, -1.98837863e-01, -5.45774168e-01],\n",
       "       [-3.52249846e-01, -3.49342722e-01, -1.14251820e+00],\n",
       "       [ 1.20158952e-01,  3.00170320e-01,  6.17203110e-01],\n",
       "       [-1.23005814e+00,  7.92806866e-01,  5.50537496e-01],\n",
       "       [-2.46169559e-02,  1.27375593e+00, -7.75161619e-01],\n",
       "       [ 2.62467445e-01, -7.33271604e-01,  2.76499305e-01],\n",
       "       [ 1.62765075e+00, -1.19926803e+00,  3.38011697e-01],\n",
       "       [-7.31127037e-02,  3.69492716e-01,  1.16033857e+00],\n",
       "       [ 6.18539131e-01,  1.81053491e+00, -4.43171931e-01],\n",
       "       [-1.39662042e+00,  6.74711526e-01, -8.61316361e-01],\n",
       "       [-4.98213564e-01, -1.89148284e-03, -3.10984978e-01],\n",
       "       [-1.62743834e+00,  4.20282204e-01,  6.02319280e-01],\n",
       "       [-8.45205641e-01, -1.26645989e-02, -6.71246131e-01],\n",
       "       [-3.26499498e-01,  1.11438298e+00, -1.34267579e+00],\n",
       "       [ 9.31102081e-01,  8.85141164e-01,  2.85587325e-01],\n",
       "       [ 8.63345318e-01, -6.03920628e-01, -1.80920302e-01],\n",
       "       [-2.00758069e-01,  4.10051647e-01,  1.86561391e-01],\n",
       "       [ 1.98299720e-01, -6.70662286e-01,  1.19008646e-01],\n",
       "       [ 5.29465324e-01,  7.78211279e-02,  1.37701210e-01],\n",
       "       [-5.86523939e-01,  8.75838928e-01, -1.23685338e+00],\n",
       "       [-6.36995647e-01,  2.10025514e+00,  1.90915485e-01],\n",
       "       [-5.68244809e-02, -6.80678141e-01,  4.92336556e-01],\n",
       "       [-6.23530730e-01, -1.14434139e+00,  5.20576337e-01],\n",
       "       [ 6.18380262e-01,  6.82551407e-01,  2.32494559e-01],\n",
       "       [-6.38730407e-01,  7.73400683e-02,  4.23494354e-01],\n",
       "       [-1.36444744e-01,  1.74094083e-02, -1.19054188e-01],\n",
       "       [ 1.34048197e-01,  2.84748111e-01,  1.20205486e+00],\n",
       "       [ 3.77563786e-01,  1.12948391e+00,  1.21821271e-01],\n",
       "       [-2.08894233e-01,  8.38983414e-01,  5.86623191e-01],\n",
       "       [-1.44087602e+00, -2.54179868e-01,  1.23225307e+00],\n",
       "       [ 7.84770651e-01,  5.85910431e-01, -9.55425262e-01],\n",
       "       [ 9.54250872e-02,  6.07501958e-02,  9.21450069e-01],\n",
       "       [ 8.84908814e-01, -8.67787223e-01, -8.77281519e-01],\n",
       "       [-1.09989127e+00, -8.77858418e-01, -1.72428208e-01],\n",
       "       [ 1.13162939e+00,  2.18557541e+00,  1.51981682e+00],\n",
       "       [ 1.19891788e+00, -3.75284950e-01,  1.85156417e-01],\n",
       "       [-1.11647002e+00, -1.86578994e-01,  8.09271010e-02],\n",
       "       [ 2.18697965e+00, -1.00155233e-01,  4.41364444e-01],\n",
       "       [ 5.62761097e-01,  2.80665077e-01,  2.40737092e-01],\n",
       "       [-7.00398505e-01,  2.42669441e-01, -2.03394449e-01]])"
      ]
     },
     "execution_count": 6,
     "metadata": {},
     "output_type": "execute_result"
    }
   ],
   "source": [
    "features"
   ]
  },
  {
   "cell_type": "code",
   "execution_count": 7,
   "metadata": {},
   "outputs": [
    {
     "data": {
      "text/plain": [
       "array([ -10.37865986,   25.5124503 ,   19.67705609,  149.50205427,\n",
       "       -121.65210879,   90.29412996,  214.01379719,  224.74157328,\n",
       "        -73.17331138, -195.62776209,  -52.49101402,  201.80460524,\n",
       "         20.27419601,   89.16398784,   -4.43979447,  -45.4775122 ,\n",
       "         56.90170664,  120.54902155,  -66.21870151,  -43.83850762,\n",
       "         34.28844887,  -77.50879778,  -26.91704015,  197.19513885,\n",
       "         64.4108542 ,  -58.24364135, -100.61171138,  120.30838239,\n",
       "       -324.6376023 ,   11.80311373, -178.33643388,  -12.11793859,\n",
       "        -25.22113932,  162.27013301,  101.22058681,  128.5378687 ,\n",
       "        -21.93291701,  141.56205532,   70.77737306,   42.75618757,\n",
       "       -129.88966784,   75.63153631,    7.75853852,   27.82808415,\n",
       "        -56.01743267,  -45.12995511,   -4.79734991, -224.87997574,\n",
       "        -74.02423583,   32.47986763, -145.77204264,   70.44079726,\n",
       "        131.09675782,  152.75477314,   -5.80729922,  126.03820644,\n",
       "       -194.05903549,  -16.07374331,  -64.65855618,   89.26813436,\n",
       "         56.81764512, -116.58860426,   70.91442266,   56.12941632,\n",
       "         79.90072841,  -44.89655856,  -27.11317814,  100.82239274,\n",
       "        180.75763303,  -45.02977955,  -40.28966423,    4.70983448,\n",
       "        -77.6416384 ,   17.78110239,  145.36191106,  -32.14346413,\n",
       "         42.56333581,  -50.69469082,   39.10805003,  -11.1650345 ,\n",
       "        190.82721374,  -41.2481516 , -110.53993067,  108.40348884,\n",
       "          4.05845119,  -11.23037507,  104.01543511,  135.5604179 ,\n",
       "        107.92408052,  -17.16536951,   37.10456128,   63.81909065,\n",
       "        -97.80560038, -145.51888775,  354.71399851,   26.60508124,\n",
       "        -63.09743841,  112.39944435,   66.6482531 ,  -18.76162201])"
      ]
     },
     "execution_count": 7,
     "metadata": {},
     "output_type": "execute_result"
    }
   ],
   "source": [
    "target"
   ]
  },
  {
   "cell_type": "code",
   "execution_count": 11,
   "metadata": {},
   "outputs": [],
   "source": [
    "##Classification##"
   ]
  },
  {
   "cell_type": "code",
   "execution_count": 9,
   "metadata": {},
   "outputs": [
    {
     "data": {
      "text/plain": [
       "array([[ 1.06354768e+00, -1.42632219e+00,  1.02163151e+00],\n",
       "       [ 2.31569771e-01,  1.49535261e+00,  3.32515785e-01],\n",
       "       [ 1.59729509e-01,  8.35335154e-01, -4.08695544e-01],\n",
       "       [-7.06121328e-01, -1.03281003e+00,  1.39477986e+00],\n",
       "       [ 8.44490198e-01, -6.19971892e-01,  1.08791124e+00],\n",
       "       [ 5.59394552e-01, -1.45815378e+00,  1.47602390e+00],\n",
       "       [-2.34279989e+00, -8.62141541e-01, -7.02236503e-01],\n",
       "       [-5.02301432e-01, -1.11266501e+00,  9.94591165e-01],\n",
       "       [ 9.18051403e-01, -1.31813097e+00,  1.37672287e+00],\n",
       "       [-6.37174666e-01,  5.90888879e-01, -2.20412713e-01],\n",
       "       [ 1.27505434e+00,  1.81333214e+00, -1.76262615e-01],\n",
       "       [-8.44318348e-02, -8.41896666e-01,  1.27619816e+00],\n",
       "       [ 1.17033878e+00, -2.50462535e-01,  6.51088535e-02],\n",
       "       [ 1.86526206e+00, -1.44673919e+00,  5.82315275e-01],\n",
       "       [-4.51512990e-01, -1.00104693e+00,  1.42523865e+00],\n",
       "       [-1.52227032e+00, -9.58868332e-01,  9.82710762e-01],\n",
       "       [-7.51474297e-01, -9.71645767e-01,  9.59587901e-01],\n",
       "       [ 9.79144440e-01, -3.36999556e-01,  4.07143853e-01],\n",
       "       [ 8.86706299e-01, -1.18285338e+00,  1.49055825e+00],\n",
       "       [-1.29255057e+00, -8.91797450e-01, -1.40785868e-01],\n",
       "       [-1.78196613e+00, -8.84226984e-01,  6.61826443e-01],\n",
       "       [ 1.67813645e+00,  3.12535456e-01,  1.73399927e+00],\n",
       "       [ 1.42343127e+00, -1.36055919e+00,  1.18167125e+00],\n",
       "       [-6.08273048e-01, -1.97911139e-03, -8.38638903e-01],\n",
       "       [ 1.62503286e+00, -7.77760821e-02,  6.49323627e-01],\n",
       "       [-1.41111014e+00,  9.34041094e-01, -1.26198687e+00],\n",
       "       [-7.85218909e-01,  1.47094549e+00,  3.54287215e-01],\n",
       "       [ 6.00410573e-01, -8.65605360e-01,  9.94567937e-01],\n",
       "       [-5.99810034e-01, -1.14365370e+00,  1.62170864e+00],\n",
       "       [-2.42158085e+00, -1.16929799e+00,  2.71260488e-01],\n",
       "       [ 1.29394198e-02, -3.03153730e-01,  1.86106869e+00],\n",
       "       [-1.96923251e+00, -1.40473916e+00,  4.89942105e-01],\n",
       "       [ 1.36771802e+00, -1.99718176e+00,  1.97516758e+00],\n",
       "       [ 1.42680420e-01, -1.40515165e+00,  2.10428084e+00],\n",
       "       [ 1.45157163e+00,  6.25663673e-01,  1.84912249e+00],\n",
       "       [ 1.14379942e+00, -1.03861696e+00,  4.70762042e-01],\n",
       "       [ 6.56204846e-01, -1.07959994e+00,  1.18158608e+00],\n",
       "       [ 8.34747298e-01, -1.72715339e+00,  2.53452735e+00],\n",
       "       [ 8.97012252e-01, -1.13462882e+00,  1.46713706e+00],\n",
       "       [-7.50876328e-01,  1.29774238e-02,  8.41235764e-02],\n",
       "       [ 2.18627490e+00, -7.72690725e-01,  3.19723802e-01],\n",
       "       [ 1.13016990e+00, -2.62653708e-01,  1.12572143e+00],\n",
       "       [-1.51627324e+00, -1.50779533e+00,  1.99835804e-01],\n",
       "       [ 5.50063828e-01, -2.05242820e+00,  1.88342271e+00],\n",
       "       [ 1.55545556e+00, -5.61950906e-01,  4.42000299e-01],\n",
       "       [ 6.46315964e-01, -4.54484253e-01,  1.29521314e+00],\n",
       "       [-8.17144515e-01, -7.43980740e-01,  1.83296858e+00],\n",
       "       [ 6.68106986e-01, -3.93472459e-01,  1.87143851e+00],\n",
       "       [ 8.70827366e-01, -1.27353458e+00,  4.96468921e-01],\n",
       "       [ 5.80652681e-01, -1.63444675e+00,  1.85449968e+00],\n",
       "       [-9.61253919e-01, -1.96732581e+00,  1.43585626e+00],\n",
       "       [ 1.12610823e+00, -6.24802320e-01,  1.27124321e+00],\n",
       "       [ 1.19902439e+00,  7.18426566e-01,  7.34912716e-01],\n",
       "       [-4.91229422e-01, -7.92173445e-01,  1.26436684e+00],\n",
       "       [ 8.04844565e-02, -2.70380917e+00,  2.41298744e+00],\n",
       "       [-2.70999375e+00, -1.68896656e+00,  6.72376419e-01],\n",
       "       [ 1.30254895e+00, -1.29297524e-02,  5.61769368e-01],\n",
       "       [-2.33686970e+00,  6.82795463e-01, -2.00692730e+00],\n",
       "       [-1.73782517e+00,  2.13690514e+00, -2.16243270e+00],\n",
       "       [ 1.18385411e+00, -1.62250860e+00,  1.03400066e+00],\n",
       "       [-3.17244517e-01, -5.21746509e-01,  1.63865326e+00],\n",
       "       [-1.77253752e+00, -1.21398001e+00,  6.36577955e-01],\n",
       "       [ 1.39394227e+00,  6.52211049e-01,  1.95513822e+00],\n",
       "       [-1.01100072e-01, -1.24258559e+00,  1.16293046e+00],\n",
       "       [-2.33275215e-01, -1.27428253e+00,  1.42113022e+00],\n",
       "       [ 1.41088304e+00, -8.67906157e-02,  4.55987299e-01],\n",
       "       [-1.65421331e+00, -2.00472045e-01, -4.77938179e-02],\n",
       "       [ 1.05180063e+00, -1.94786850e+00,  1.53751741e+00],\n",
       "       [ 1.27294546e-01,  1.96878830e+00,  2.13708226e-01],\n",
       "       [ 6.36248267e-01, -1.12533943e+00,  1.68321341e+00],\n",
       "       [ 1.07722483e+00,  2.38861398e+00, -5.85568008e-01],\n",
       "       [-6.47509455e-01, -6.86416167e-01,  6.49068078e-01],\n",
       "       [-9.56385637e-02, -7.84608945e-01,  7.08673483e-01],\n",
       "       [-3.79657225e-01,  1.42529169e+00, -5.50634976e-01],\n",
       "       [ 1.64950863e+00, -6.95010397e-01,  4.62138607e-01],\n",
       "       [ 1.41857094e+00, -4.95259665e-01,  2.01068112e+00],\n",
       "       [-8.40552567e-01, -4.74231865e-01,  1.03450742e+00],\n",
       "       [-2.58501280e+00, -1.49017798e+00,  1.46526730e-01],\n",
       "       [ 1.39718477e+00, -4.16943750e-01,  9.15714993e-01],\n",
       "       [ 1.58507927e+00, -4.19350912e-01,  2.23623681e-01],\n",
       "       [-1.15756869e+00, -1.26592565e+00,  1.45523297e+00],\n",
       "       [-2.50510046e-01, -5.55087346e-02,  1.21318284e+00],\n",
       "       [-2.09578348e+00, -1.70342966e+00,  1.15280824e+00],\n",
       "       [ 9.93521344e-01, -1.24676718e+00,  1.52541126e+00],\n",
       "       [-1.07568849e+00,  1.77241160e-02,  3.07719573e-01],\n",
       "       [ 1.45085006e+00, -1.60853230e+00,  1.07534504e+00],\n",
       "       [-1.50578912e+00,  7.17757879e-01, -1.14772203e+00],\n",
       "       [-2.05138559e+00,  5.32160696e-01, -2.01013229e-01],\n",
       "       [ 1.39206480e+00,  2.03488471e-01,  1.80784740e-01],\n",
       "       [ 1.97371644e-01,  1.24901942e+00,  1.58570711e+00],\n",
       "       [-8.86532754e-01, -1.58356865e+00,  2.09202902e+00],\n",
       "       [ 1.15542253e-03, -4.39315891e-01,  8.15908401e-01],\n",
       "       [ 8.74065083e-02,  2.25918566e+00,  1.89187657e+00],\n",
       "       [ 1.35998713e+00, -8.16312669e-01,  4.43161822e-01],\n",
       "       [ 1.13310429e+00,  3.55571042e-01,  2.25386712e+00],\n",
       "       [ 1.10641096e+00, -1.61551585e+00,  1.60329579e+00],\n",
       "       [-2.43862320e+00, -1.78462959e+00,  5.00375675e-01],\n",
       "       [-1.30468982e+00, -1.65292563e+00,  9.92339722e-01],\n",
       "       [ 1.19020761e+00, -9.61064243e-01,  2.92125104e-01],\n",
       "       [-1.08804668e+00,  8.28037776e-01, -5.66882363e-01]])"
      ]
     },
     "execution_count": 9,
     "metadata": {},
     "output_type": "execute_result"
    }
   ],
   "source": [
    "from sklearn.datasets import make_classification\n",
    "# Generate features matrix and target vector\n",
    "features, target = make_classification(n_samples = 100,\n",
    "n_features = 3,\n",
    "n_informative = 3,\n",
    "n_redundant = 0,\n",
    "n_classes = 2,\n",
    "weights = [.25, .75],\n",
    "random_state = 1)\n",
    "features"
   ]
  },
  {
   "cell_type": "code",
   "execution_count": 10,
   "metadata": {},
   "outputs": [
    {
     "data": {
      "text/plain": [
       "array([1, 0, 0, 1, 1, 1, 0, 1, 1, 0, 0, 1, 1, 1, 1, 1, 1, 1, 1, 0, 1, 0,\n",
       "       1, 0, 0, 0, 0, 1, 1, 1, 1, 1, 1, 1, 1, 1, 1, 1, 1, 1, 1, 1, 1, 1,\n",
       "       1, 1, 1, 1, 1, 1, 1, 1, 0, 1, 1, 1, 1, 0, 0, 1, 1, 1, 0, 1, 1, 1,\n",
       "       1, 1, 0, 1, 0, 1, 1, 0, 1, 0, 1, 1, 1, 1, 1, 1, 1, 1, 1, 1, 0, 0,\n",
       "       1, 0, 1, 1, 0, 1, 0, 1, 1, 1, 1, 0])"
      ]
     },
     "execution_count": 10,
     "metadata": {},
     "output_type": "execute_result"
    }
   ],
   "source": [
    "target"
   ]
  },
  {
   "cell_type": "code",
   "execution_count": 12,
   "metadata": {},
   "outputs": [],
   "source": [
    "##Clustering##"
   ]
  },
  {
   "cell_type": "code",
   "execution_count": 13,
   "metadata": {},
   "outputs": [],
   "source": [
    "# Load library\n",
    "from sklearn.datasets import make_blobs\n",
    "# Generate feature matrix and target vector\n",
    "features, target = make_blobs(n_samples = 100,\n",
    "n_features = 2,\n",
    "centers = 3,\n",
    "cluster_std = 0.5,\n",
    "shuffle = True,\n",
    "random_state = 1)"
   ]
  },
  {
   "cell_type": "code",
   "execution_count": 14,
   "metadata": {},
   "outputs": [
    {
     "data": {
      "text/plain": [
       "array([[ -1.22685609,   3.25572052],\n",
       "       [ -9.57463218,  -4.38310652],\n",
       "       [-10.71976941,  -4.20558148],\n",
       "       [ -9.88266514,  -3.57234296],\n",
       "       [ -5.80071933,  -8.27754549],\n",
       "       [ -6.66395167,  -8.12994446],\n",
       "       [ -6.72484726,  -8.3131289 ],\n",
       "       [ -9.60130907,  -4.26511391],\n",
       "       [ -2.20986949,   4.97885172],\n",
       "       [ -1.41530083,   4.36870401],\n",
       "       [-10.01706026,  -4.76123472],\n",
       "       [ -9.93680187,  -3.38860659],\n",
       "       [ -7.1201057 ,  -8.46190914],\n",
       "       [ -2.03313905,   5.25271717],\n",
       "       [ -5.96953232,  -9.10140857],\n",
       "       [ -6.57171459,  -8.04646115],\n",
       "       [ -6.9486349 ,  -7.8119524 ],\n",
       "       [ -2.00314626,   3.98388705],\n",
       "       [-10.16963934,  -3.93155012],\n",
       "       [-10.54516843,  -3.86865733],\n",
       "       [ -6.78350164,  -8.03285956],\n",
       "       [-10.13082176,  -3.93704127],\n",
       "       [ -6.9404826 ,  -8.30154868],\n",
       "       [ -1.50004036,   4.28180468],\n",
       "       [-10.18535498,  -4.27271375],\n",
       "       [ -7.21994057,  -9.37064699],\n",
       "       [ -6.84419996,  -8.20330572],\n",
       "       [ -1.50947475,   4.23036495],\n",
       "       [ -0.92850594,   3.37641951],\n",
       "       [ -6.80459402,  -8.7253988 ],\n",
       "       [ -1.79350395,   4.6716676 ],\n",
       "       [ -2.230819  ,   4.23181851],\n",
       "       [ -7.32342941,  -8.65174152],\n",
       "       [ -1.75547768,   3.96267539],\n",
       "       [ -9.18388713,  -3.7843427 ],\n",
       "       [ -7.15816707,  -8.20410104],\n",
       "       [ -9.39825356,  -3.86077034],\n",
       "       [-10.68427116,  -3.79576885],\n",
       "       [-10.08817265,  -4.25530886],\n",
       "       [ -7.13310456,  -8.2127552 ],\n",
       "       [ -6.92454965,  -8.18978446],\n",
       "       [ -9.82243951,  -4.60949025],\n",
       "       [ -1.82076851,   4.21446269],\n",
       "       [-10.61274157,  -3.6780798 ],\n",
       "       [ -9.89856264,  -3.89384422],\n",
       "       [ -6.80014952,  -8.0843775 ],\n",
       "       [ -1.20876455,   4.65773704],\n",
       "       [ -0.5667722 ,   3.7082417 ],\n",
       "       [ -2.21821508,   4.52369772],\n",
       "       [ -1.72100502,   3.93860515],\n",
       "       [-10.10887657,  -4.05372758],\n",
       "       [ -6.73535729,  -8.96694727],\n",
       "       [ -7.02597162,  -7.84403797],\n",
       "       [ -7.26532128,  -7.7412253 ],\n",
       "       [ -1.59948043,   4.71509142],\n",
       "       [ -6.81727652,  -8.24057968],\n",
       "       [-10.30771293,  -3.60433253],\n",
       "       [ -9.36083454,  -2.96979767],\n",
       "       [ -1.63845303,   4.69789748],\n",
       "       [ -1.403095  ,   4.25744345],\n",
       "       [ -9.90443181,  -3.74832272],\n",
       "       [ -7.38834053,  -7.70248466],\n",
       "       [ -6.81328978,  -7.50661516],\n",
       "       [-10.01002098,  -4.34092936],\n",
       "       [-10.92670344,  -3.33526653],\n",
       "       [ -6.39915363,  -8.29688204],\n",
       "       [ -2.03675888,   5.03292395],\n",
       "       [ -7.70116156,  -7.99645424],\n",
       "       [ -1.74577401,   3.96756066],\n",
       "       [ -9.78596533,  -3.91467851],\n",
       "       [ -9.79596668,  -3.65655929],\n",
       "       [ -9.62743428,  -4.43019885],\n",
       "       [ -6.76372254,  -7.943087  ],\n",
       "       [ -1.2400682 ,   4.87204091],\n",
       "       [ -0.82965882,   4.77751195],\n",
       "       [ -9.83989503,  -4.96444916],\n",
       "       [ -6.63043911,  -7.77802228],\n",
       "       [ -7.04304769,  -8.26638523],\n",
       "       [ -1.92364578,   3.87000556],\n",
       "       [-10.22127679,  -3.34109469],\n",
       "       [ -1.09374521,   5.16639828],\n",
       "       [-10.59734652,  -3.52167589],\n",
       "       [ -9.91769397,  -3.51526409],\n",
       "       [ -6.11255283,  -7.59769976],\n",
       "       [ -2.00539028,   4.20811311],\n",
       "       [ -1.09267518,   3.85654424],\n",
       "       [ -1.56410216,   5.45661744],\n",
       "       [ -1.20913193,   4.06462594],\n",
       "       [-10.15081451,  -3.53936123],\n",
       "       [ -1.99518297,   4.40015757],\n",
       "       [ -6.4847129 ,  -7.96848175],\n",
       "       [ -1.63415603,   4.08799205],\n",
       "       [ -1.76400702,   4.69980146],\n",
       "       [-10.33304365,  -3.76456665],\n",
       "       [ -9.43700365,  -3.74889828],\n",
       "       [ -6.54546988,  -7.05973828],\n",
       "       [ -7.05617748,  -8.71423747],\n",
       "       [ -1.51676624,   4.84906045],\n",
       "       [ -6.65940635,  -7.63100706],\n",
       "       [ -0.78715402,   4.02588642]])"
      ]
     },
     "execution_count": 14,
     "metadata": {},
     "output_type": "execute_result"
    }
   ],
   "source": [
    "features"
   ]
  },
  {
   "cell_type": "code",
   "execution_count": 15,
   "metadata": {},
   "outputs": [
    {
     "data": {
      "image/png": "[encoded data removed]",
      "text/plain": [
       "<Figure size 432x288 with 1 Axes>"
      ]
     },
     "metadata": {
      "needs_background": "light"
     },
     "output_type": "display_data"
    }
   ],
   "source": [
    "# Load library\n",
    "import matplotlib.pyplot as plt\n",
    "# View scatterplot\n",
    "plt.scatter(features[:,0], features[:,1], c=target)\n",
    "plt.show()"
   ]
  },
  {
   "cell_type": "markdown",
   "metadata": {},
   "source": [
    "**Loading a csv file**"
   ]
  },
  {
   "cell_type": "code",
   "execution_count": null,
   "metadata": {},
   "outputs": [],
   "source": [
    "import pandas as pd\n",
    "# Create URL\n",
    "url = 'url'\n",
    "# Load dataset\n",
    "dataframe = pd.read_csv(url)\n",
    "# View first two rows\n",
    "dataframe.head(2)"
   ]
  },
  {
   "cell_type": "markdown",
   "metadata": {},
   "source": [
    "**Loading an Excel File**"
   ]
  },
  {
   "cell_type": "code",
   "execution_count": null,
   "metadata": {},
   "outputs": [],
   "source": [
    "# Load library\n",
    "import pandas as pd\n",
    "# Create URL\n",
    "url = 'https://tinyurl.com/simulated_excel'\n",
    "# Load data\n",
    "dataframe = pd.read_excel(url, sheetname=0, header=1)\n",
    "# View the first two rows\n",
    "dataframe.head(2)"
   ]
  },
  {
   "cell_type": "markdown",
   "metadata": {},
   "source": [
    "**Loading a JSON File**"
   ]
  },
  {
   "cell_type": "code",
   "execution_count": null,
   "metadata": {},
   "outputs": [],
   "source": [
    "# Load library\n",
    "import pandas as pd\n",
    "# Create URL\n",
    "url = 'https://tinyurl.com/simulated_json'\n",
    "# Load data\n",
    "dataframe = pd.read_json(url, orient='columns')\n",
    "# View the first two rows\n",
    "dataframe.head(2)"
   ]
  },
  {
   "cell_type": "markdown",
   "metadata": {},
   "source": [
    "**Querying a SQL Database**"
   ]
  },
  {
   "cell_type": "code",
   "execution_count": null,
   "metadata": {},
   "outputs": [],
   "source": [
    "# Load libraries\n",
    "import pandas as pd\n",
    "from sqlalchemy import create_engine\n",
    "# Create a connection to the database\n",
    "database_connection = create_engine('sqlite:///sample.db')\n",
    "# Load data\n",
    "dataframe = pd.read_sql_query('SELECT * FROM data', database_connection)\n",
    "# View first two rows\n",
    "dataframe.head(2)"
   ]
  }
 ],
 "metadata": {
  "kernelspec": {
   "display_name": "Python 3",
   "language": "python",
   "name": "python3"
  },
  "language_info": {
   "codemirror_mode": {
    "name": "ipython",
    "version": 3
   },
   "file_extension": ".py",
   "mimetype": "text/x-python",
   "name": "python",
   "nbconvert_exporter": "python",
   "pygments_lexer": "ipython3",
   "version": "3.8.5"
  }
 },
 "nbformat": 4,
 "nbformat_minor": 4
}
