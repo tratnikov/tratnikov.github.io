{
 "cells": [
  {
   "cell_type": "code",
   "execution_count": null,
   "id": "premium-problem",
   "metadata": {},
   "outputs": [],
   "source": [
    "1. nano myscript.sh\n",
    "2. echo \"Hello world!\"\n",
    "3. clear\n",
    "4. chmod +x script.sh\n",
    "5. ./script.sh\n",
    "6. nano myscript.sh\n",
    "7. echo \"Hello world\" > file.txt \n",
    "8. cat > file.txt Multiple rows save control +D\n",
    "9. cat >> file.txt to append rows\n",
    "10. : '' to make a comment"
   ]
  },
  {
   "cell_type": "code",
   "execution_count": null,
   "id": "opposed-robert",
   "metadata": {},
   "outputs": [],
   "source": [
    "#If\n",
    "\n",
    "count=10\n",
    "\n",
    "if [ $count -eq 9 ]\n",
    "then\n",
    "        echo \"the condition is true\"\n",
    "else\n",
    "        echo \"false\"\n",
    "fi\n",
    "\n",
    "#If elif\n",
    "count=100\n",
    "if (( $count<10 ))\n",
    "then\n",
    "        echo \"true\"\n",
    "elif (( $count>100 ))\n",
    "then\n",
    "        echo \"bigger than 100\"\n",
    "else\n",
    "        echo \"false\"\n",
    "fi\n",
    "\n",
    "# And\n",
    "count=2000\n",
    "\n",
    "if (( $count<10 ))\n",
    "then\n",
    "\techo \"true\"\n",
    "elif (( $count>100 )) && (( $count<1000 ))\n",
    "then\n",
    "\techo \"correct\"\n",
    "else\n",
    "\techo \"false\"\n",
    "fi\n",
    "\n",
    "#Or ||"
   ]
  },
  {
   "cell_type": "code",
   "execution_count": null,
   "id": "fixed-brighton",
   "metadata": {},
   "outputs": [],
   "source": [
    "#Loops while\n",
    "\n",
    "number=1\n",
    "\n",
    "while [ $number -lt 10 ]\n",
    "do\n",
    "    echo \"$number\"\n",
    "    number=$(( number+1 ))\n",
    "    \n",
    "done\n"
   ]
  },
  {
   "cell_type": "code",
   "execution_count": null,
   "id": "impressed-pittsburgh",
   "metadata": {},
   "outputs": [],
   "source": [
    "#Loops for\n",
    "for i in {0..20}\n",
    "do\n",
    "    echo $i\n",
    "done\n",
    "\n",
    "for i in {0..20..2}\n",
    "do\n",
    "    echo $i\n",
    "done"
   ]
  }
 ],
 "metadata": {
  "kernelspec": {
   "display_name": "Python 3",
   "language": "python",
   "name": "python3"
  },
  "language_info": {
   "codemirror_mode": {
    "name": "ipython",
    "version": 3
   },
   "file_extension": ".py",
   "mimetype": "text/x-python",
   "name": "python",
   "nbconvert_exporter": "python",
   "pygments_lexer": "ipython3",
   "version": "3.8.5"
  }
 },
 "nbformat": 4,
 "nbformat_minor": 5
}
